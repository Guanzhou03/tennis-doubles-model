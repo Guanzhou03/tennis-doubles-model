{
 "cells": [
  {
   "cell_type": "code",
   "execution_count": 12,
   "metadata": {},
   "outputs": [],
   "source": [
    "import pandas as pd\n",
    "\n",
    "# Create the data for the table\n",
    "data = {\n",
    "    'File input': [\n",
    "        'eGFJAG-2jM8_transformed.json', 'EMBw_kXc574_transformed.json',\n",
    "        'VUPKfQgXy8g_transformed.json', 'an7MXASRyI0_transformed.json'\n",
    "    ],\n",
    "    'GameScore (T1-T2)': ['3-6', '6-4', '3-6', '6-4'],\n",
    "    '1Point': [0.48819, 0.51903, 0.39074, 0.48729],\n",
    "    'Tiebreak PAT': [0.37489, 0.544235, 0.1723, 0.526075],\n",
    "    'Tiebreak Python': [0.464, 0.565, 0.163, 0.488],\n",
    "    'FullGame': [0.381, 0.701, 0.011, 0.686]\n",
    "}\n"
   ]
  },
  {
   "cell_type": "code",
   "execution_count": 13,
   "metadata": {},
   "outputs": [
    {
     "name": "stdout",
     "output_type": "stream",
     "text": [
      "          File input                    GameScore (T1-T2)  1Point   Tiebreak PAT  Tiebreak Python  FullGame\n",
      "Match No.                                                                                                  \n",
      "0          eGFJAG-2jM8_transformed.json  3-6               0.48819  0.374890      0.464            0.381   \n",
      "2          VUPKfQgXy8g_transformed.json  3-6               0.39074  0.172300      0.163            0.011   \n",
      "1          EMBw_kXc574_transformed.json  6-4               0.51903  0.544235      0.565            0.701   \n",
      "3          an7MXASRyI0_transformed.json  6-4               0.48729  0.526075      0.488            0.686   \n"
     ]
    }
   ],
   "source": [
    "game_data_df = pd.DataFrame(data)\n",
    "\n",
    "# Split the GameScore for sorting purposes\n",
    "game_data_df[['Team1_Score', 'Team2_Score']] = game_data_df['GameScore (T1-T2)'].str.split('-', expand=True).astype(float)\n",
    "\n",
    "# Sort by GameScore\n",
    "sorted_game_data_df = game_data_df.sort_values(by=['Team1_Score', 'Team2_Score']).drop(columns=['Team1_Score', 'Team2_Score'])\n",
    "sorted_game_data_df.index.name = 'Match No.'\n",
    "# Adjust pandas settings to show all columns in one line and format better\n",
    "pd.set_option('display.max_columns', None)  # Ensure all columns are shown\n",
    "pd.set_option('display.expand_frame_repr', False)  # Prevent wrapping to the next line\n",
    "pd.set_option('display.colheader_justify', 'left')  # Adjust column alignment to the left\n",
    "\n",
    "# Display sorted data\n",
    "print(sorted_game_data_df)"
   ]
  },
  {
   "cell_type": "code",
   "execution_count": 14,
   "metadata": {},
   "outputs": [
    {
     "name": "stdout",
     "output_type": "stream",
     "text": [
      "  File input                    GameScore (T1-T2)  1Point   Tiebreak PAT  Tiebreak Python  FullGame  Team1_Score  Team2_Score\n",
      "0  eGFJAG-2jM8_transformed.json  3-6               0.48819  0.374890      0.464            0.381     3.0          6.0        \n",
      "1  EMBw_kXc574_transformed.json  6-4               0.51903  0.544235      0.565            0.701     6.0          4.0        \n",
      "2  VUPKfQgXy8g_transformed.json  3-6               0.39074  0.172300      0.163            0.011     3.0          6.0        \n",
      "3  an7MXASRyI0_transformed.json  6-4               0.48729  0.526075      0.488            0.686     6.0          4.0        \n"
     ]
    }
   ],
   "source": [
    "\n",
    "# Convert the data into a pandas DataFrame\n",
    "game_data_df = pd.DataFrame(data)\n",
    "\n",
    "# Split the GameScore for sorting purposes\n",
    "game_data_df[['Team1_Score', 'Team2_Score']] = game_data_df['GameScore (T1-T2)'].str.split('-', expand=True).astype(float)\n",
    "\n",
    "# Sort by GameScore\n",
    "# sorted_game_data_df = game_data_df.sort_values(by=['Team1_Score', 'Team2_Score']).drop(columns=['Team1_Score', 'Team2_Score'])\n",
    "\n",
    "# Display sorted data\n",
    "print(game_data_df)\n"
   ]
  },
  {
   "cell_type": "code",
   "execution_count": 18,
   "metadata": {},
   "outputs": [
    {
     "name": "stdout",
     "output_type": "stream",
     "text": [
      "Probability that you win the game: 0.0326\n"
     ]
    }
   ],
   "source": [
    "# Probability of reaching n bernollli trials successes before n failures, with success probability p\n",
    "def win_probability(n, p):\n",
    "    # Let dp[i][j] be the probability that we win (n successes before n failures) given that current state is i successes, j failures\n",
    "    # dp[i][j] = p * dp[i+1][j] + (1-p) * dp[i][j+1] (value of current node is weighted sum of successor nodes)\n",
    "    dp = [[0.0 for _ in range(n + 1)] for _ in range(n + 1)]\n",
    "    \n",
    "    # Base cases\n",
    "    for j in range(n):\n",
    "        dp[n][j] = 1.0  # If we reach n points, we win\n",
    "    for i in range(n):\n",
    "        dp[i][n] = 0.0  # If opponent reaches 10 points, we lose\n",
    "\n",
    "    for i in range(n - 1, -1, -1):  # Your points\n",
    "        for j in range(n - 1, -1, -1):  # Opponent's points\n",
    "            dp[i][j] = p * dp[i + 1][j] + (1-p) * dp[i][j + 1]\n",
    "    \n",
    "    return dp[0][0]\n",
    "\n",
    "probability = win_probability(10, 0.3)\n",
    "print(f\"Probability that we win the game: {probability:.4f}\")"
   ]
  }
 ],
 "metadata": {
  "kernelspec": {
   "display_name": "base",
   "language": "python",
   "name": "python3"
  },
  "language_info": {
   "codemirror_mode": {
    "name": "ipython",
    "version": 3
   },
   "file_extension": ".py",
   "mimetype": "text/x-python",
   "name": "python",
   "nbconvert_exporter": "python",
   "pygments_lexer": "ipython3",
   "version": "3.9.13"
  }
 },
 "nbformat": 4,
 "nbformat_minor": 2
}
